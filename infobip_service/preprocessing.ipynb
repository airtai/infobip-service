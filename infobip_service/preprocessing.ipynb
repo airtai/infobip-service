{
 "cells": [
  {
   "cell_type": "code",
   "execution_count": 1,
   "metadata": {},
   "outputs": [],
   "source": [
    "#| export\n",
    "\n",
    "from pathlib import Path\n",
    "from typing import List\n",
    "from datetime import datetime, timedelta\n",
    "\n",
    "import pandas as pd\n",
    "import dask.dataframe as dd"
   ]
  },
  {
   "cell_type": "code",
   "execution_count": 2,
   "metadata": {},
   "outputs": [],
   "source": [
    "from infobip_service.download import raw_data_path"
   ]
  },
  {
   "cell_type": "code",
   "execution_count": 3,
   "metadata": {},
   "outputs": [],
   "source": [
    "#| export\n",
    "\n",
    "processed_data_path = Path() / '..' / 'data' / 'processed'"
   ]
  },
  {
   "cell_type": "code",
   "execution_count": 4,
   "metadata": {},
   "outputs": [],
   "source": [
    "processed_data_path.mkdir(parents=True, exist_ok=True)"
   ]
  },
  {
   "cell_type": "code",
   "execution_count": 5,
   "metadata": {},
   "outputs": [
    {
     "data": {
      "text/html": [
       "<div>\n",
       "<style scoped>\n",
       "    .dataframe tbody tr th:only-of-type {\n",
       "        vertical-align: middle;\n",
       "    }\n",
       "\n",
       "    .dataframe tbody tr th {\n",
       "        vertical-align: top;\n",
       "    }\n",
       "\n",
       "    .dataframe thead th {\n",
       "        text-align: right;\n",
       "    }\n",
       "</style>\n",
       "<table border=\"1\" class=\"dataframe\">\n",
       "  <thead>\n",
       "    <tr style=\"text-align: right;\">\n",
       "      <th></th>\n",
       "      <th>AccountId</th>\n",
       "      <th>ApplicationId</th>\n",
       "      <th>DefinitionId</th>\n",
       "      <th>OccurredTime</th>\n",
       "      <th>OccurredTimeTicks</th>\n",
       "    </tr>\n",
       "    <tr>\n",
       "      <th>PersonId</th>\n",
       "      <th></th>\n",
       "      <th></th>\n",
       "      <th></th>\n",
       "      <th></th>\n",
       "      <th></th>\n",
       "    </tr>\n",
       "  </thead>\n",
       "  <tbody>\n",
       "    <tr>\n",
       "      <th>0</th>\n",
       "      <td>12344</td>\n",
       "      <td></td>\n",
       "      <td>personCreated</td>\n",
       "      <td>2023-05-22 13:47:04</td>\n",
       "      <td>1684763224886</td>\n",
       "    </tr>\n",
       "    <tr>\n",
       "      <th>0</th>\n",
       "      <td>12344</td>\n",
       "      <td></td>\n",
       "      <td>personEnteredFlow</td>\n",
       "      <td>2023-05-22 14:19:33</td>\n",
       "      <td>1684765173309</td>\n",
       "    </tr>\n",
       "    <tr>\n",
       "      <th>0</th>\n",
       "      <td>12344</td>\n",
       "      <td></td>\n",
       "      <td>personExitedFlow</td>\n",
       "      <td>2023-05-22 15:19:56</td>\n",
       "      <td>1684768796388</td>\n",
       "    </tr>\n",
       "    <tr>\n",
       "      <th>0</th>\n",
       "      <td>12344</td>\n",
       "      <td></td>\n",
       "      <td>personEnteredFlow</td>\n",
       "      <td>2023-05-24 09:07:48</td>\n",
       "      <td>1684919268908</td>\n",
       "    </tr>\n",
       "    <tr>\n",
       "      <th>0</th>\n",
       "      <td>12344</td>\n",
       "      <td></td>\n",
       "      <td>personExitedFlow</td>\n",
       "      <td>2023-05-24 10:08:16</td>\n",
       "      <td>1684922896648</td>\n",
       "    </tr>\n",
       "  </tbody>\n",
       "</table>\n",
       "</div>"
      ],
      "text/plain": [
       "          AccountId ApplicationId       DefinitionId        OccurredTime  \\\n",
       "PersonId                                                                   \n",
       "0             12344                    personCreated 2023-05-22 13:47:04   \n",
       "0             12344                personEnteredFlow 2023-05-22 14:19:33   \n",
       "0             12344                 personExitedFlow 2023-05-22 15:19:56   \n",
       "0             12344                personEnteredFlow 2023-05-24 09:07:48   \n",
       "0             12344                 personExitedFlow 2023-05-24 10:08:16   \n",
       "\n",
       "          OccurredTimeTicks  \n",
       "PersonId                     \n",
       "0             1684763224886  \n",
       "0             1684765173309  \n",
       "0             1684768796388  \n",
       "0             1684919268908  \n",
       "0             1684922896648  "
      ]
     },
     "execution_count": 5,
     "metadata": {},
     "output_type": "execute_result"
    }
   ],
   "source": [
    "raw_data = dd.read_parquet(raw_data_path)\n",
    "raw_data.head()"
   ]
  },
  {
   "cell_type": "markdown",
   "metadata": {},
   "source": [
    "## Time tresholding"
   ]
  },
  {
   "cell_type": "code",
   "execution_count": 6,
   "metadata": {},
   "outputs": [],
   "source": [
    "def _sample_time_map(df: pd.DataFrame, *, time_treshold: datetime) -> pd.DataFrame:\n",
    "    df = df[df['OccurredTime'] < time_treshold]\n",
    "    return df"
   ]
  },
  {
   "cell_type": "code",
   "execution_count": 7,
   "metadata": {},
   "outputs": [],
   "source": [
    "raw = pd.DataFrame({\n",
    "        \"AccountId\": [12345, 12345, 12345, 12345, 12345, 12345],\n",
    "        \"OccurredTime\": [\n",
    "            \"2023-07-10 13:27:00.123456\",\n",
    "            \"2023-07-10 13:27:01.246912\",\n",
    "            \"2023-07-12 13:27:02.370368\",\n",
    "            \"2023-07-12 13:27:03.493824\",\n",
    "            \"2023-07-12 13:27:04.617280\",\n",
    "            \"2023-07-10 13:27:05.740736\",\n",
    "        ],\n",
    "        \"DefinitionId\": [\"one\", \"one\", \"one\", \"two\", \"two\", \"three\"],\n",
    "        \"ApplicationId\": [None, None, None, None, None, None],\n",
    "    }, index=pd.Index([1, 2, 2, 3, 3, 3], name=\"PersonId\"))\n",
    "raw[\"OccurredTime\"] = pd.to_datetime(raw[\"OccurredTime\"])\n",
    "raw[\"DefinitionId\"] = raw[\"DefinitionId\"].astype(\"string[pyarrow]\")\n",
    "raw[\"ApplicationId\"] = raw[\"ApplicationId\"].astype(\"string[pyarrow]\")\n",
    "\n",
    "\n",
    "expected = pd.DataFrame({\n",
    "        \"AccountId\": [12345, 12345, 12345],\n",
    "        \"OccurredTime\": [\n",
    "            \"2023-07-10 13:27:00.123456\",\n",
    "            \"2023-07-10 13:27:01.246912\",\n",
    "            \"2023-07-10 13:27:05.740736\",\n",
    "        ],\n",
    "        \"DefinitionId\": [\"one\", \"one\", \"three\"],\n",
    "        \"ApplicationId\": [None, None, None],\n",
    "    }, index=pd.Index([1, 2, 3], name=\"PersonId\"))\n",
    "expected[\"OccurredTime\"] = pd.to_datetime(expected[\"OccurredTime\"])\n",
    "expected[\"DefinitionId\"] = expected[\"DefinitionId\"].astype(\"string[pyarrow]\")\n",
    "expected[\"ApplicationId\"] = expected[\"ApplicationId\"].astype(\"string[pyarrow]\")"
   ]
  },
  {
   "cell_type": "code",
   "execution_count": 8,
   "metadata": {},
   "outputs": [],
   "source": [
    "pd.testing.assert_frame_equal(_sample_time_map(raw, time_treshold=datetime(2023, 7, 11)), expected)"
   ]
  },
  {
   "cell_type": "code",
   "execution_count": 9,
   "metadata": {},
   "outputs": [],
   "source": [
    "#| export\n",
    "\n",
    "def sample_time_map(ddf: dd.DataFrame, *, time_treshold: datetime) -> dd.DataFrame:\n",
    "    meta = _sample_time_map(ddf._meta, time_treshold=time_treshold)\n",
    "    return ddf.map_partitions(_sample_time_map, time_treshold=time_treshold, meta=meta)"
   ]
  },
  {
   "cell_type": "code",
   "execution_count": 10,
   "metadata": {},
   "outputs": [],
   "source": [
    "actual = sample_time_map(dd.from_pandas(raw, npartitions=2), time_treshold=datetime(2023, 7, 11)).compute()\n",
    "pd.testing.assert_frame_equal(actual, expected)"
   ]
  },
  {
   "cell_type": "markdown",
   "metadata": {},
   "source": [
    "### Dataset time exploration"
   ]
  },
  {
   "cell_type": "code",
   "execution_count": 11,
   "metadata": {},
   "outputs": [
    {
     "data": {
      "text/plain": [
       "count                         27999602\n",
       "min                2023-03-29 12:59:30\n",
       "25%                2023-06-15 10:01:10\n",
       "50%                2023-10-17 13:10:22\n",
       "75%      2023-11-28 08:59:49.321999872\n",
       "max         2023-12-23 00:00:30.906000\n",
       "Name: OccurredTime, dtype: string"
      ]
     },
     "execution_count": 11,
     "metadata": {},
     "output_type": "execute_result"
    }
   ],
   "source": [
    "time_stats = raw_data[\"OccurredTime\"].describe().compute()\n",
    "time_stats"
   ]
  },
  {
   "cell_type": "code",
   "execution_count": 12,
   "metadata": {},
   "outputs": [
    {
     "data": {
      "text/plain": [
       "datetime.datetime(2023, 10, 28, 0, 0, 30, 906000)"
      ]
     },
     "execution_count": 12,
     "metadata": {},
     "output_type": "execute_result"
    }
   ],
   "source": [
    "# | export\n",
    "\n",
    "# Time treshold is 56 days before the latest event. 28 days before for test horizon and 28 days more for train/validation horizon\n",
    "max_time = datetime.strptime(time_stats[\"max\"], \"%Y-%m-%d %H:%M:%S.%f\")\n",
    "time_treshold = max_time - timedelta(days=56)\n",
    "time_treshold"
   ]
  },
  {
   "cell_type": "markdown",
   "metadata": {},
   "source": []
  },
  {
   "cell_type": "code",
   "execution_count": 13,
   "metadata": {},
   "outputs": [
    {
     "name": "stderr",
     "output_type": "stream",
     "text": [
      "/tmp/ipykernel_2516276/3067838444.py:3: FutureWarning: The default of observed=False is deprecated and will be changed to True in a future version of pandas. Pass observed=False to retain current behavior or observed=True to adopt the future default and silence this warning.\n",
      "  df.groupby(factor).apply(lambda x: x.count()).plot(kind='bar', rot=45, legend=0);\n"
     ]
    },
    {
     "data": {
      "image/png": "[encoded data removed]",
      "text/plain": [
       "<Figure size 640x480 with 1 Axes>"
      ]
     },
     "metadata": {},
     "output_type": "display_data"
    }
   ],
   "source": [
    "df = pd.DataFrame({'x':sample_time_map(raw_data, time_treshold=time_treshold).index.value_counts().compute().values})\n",
    "factor = pd.cut(df.x, [1,10,20,100,100000])\n",
    "df.groupby(factor).apply(lambda x: x.count()).plot(kind='bar', rot=45, legend=0);"
   ]
  },
  {
   "cell_type": "markdown",
   "metadata": {},
   "source": [
    "# Sample construction"
   ]
  },
  {
   "cell_type": "markdown",
   "metadata": {},
   "source": [
    "## Time to next Event buckets"
   ]
  },
  {
   "cell_type": "code",
   "execution_count": 14,
   "metadata": {},
   "outputs": [],
   "source": [
    "# | export\n",
    "\n",
    "timedelta_buckets = [timedelta(days=days) for days in [1, 3, 7, 14, 28]]\n",
    "\n",
    "def _bin_timedelta(timedelta: timedelta, *, timedelta_buckets: List[timedelta]=timedelta_buckets):\n",
    "    for class_value, timedelta_key in enumerate(timedelta_buckets):\n",
    "        if timedelta < timedelta_key:\n",
    "            return class_value\n",
    "\n",
    "    return len(timedelta_buckets)"
   ]
  },
  {
   "cell_type": "code",
   "execution_count": 15,
   "metadata": {},
   "outputs": [],
   "source": [
    "assert _bin_timedelta(timedelta(days=0)) == 0\n",
    "assert _bin_timedelta(timedelta(days=2)) == 1\n",
    "assert _bin_timedelta(timedelta(days=4)) == 2\n",
    "assert _bin_timedelta(timedelta(days=8)) == 3\n",
    "assert _bin_timedelta(timedelta(days=16)) == 4\n",
    "assert _bin_timedelta(timedelta(days=32)) == 5"
   ]
  },
  {
   "cell_type": "code",
   "execution_count": 16,
   "metadata": {},
   "outputs": [],
   "source": [
    "user_history = pd.DataFrame({\n",
    "        \"AccountId\": [12345, 12345, 12345],\n",
    "        \"OccurredTime\": [\n",
    "            \"2023-07-10 13:27:00.123456\",\n",
    "            \"2023-07-12 13:27:01.246912\",\n",
    "            \"2023-07-28 13:27:05.740736\",\n",
    "        ],\n",
    "        \"DefinitionId\": [\"one\", \"one\", \"one\"],\n",
    "        \"ApplicationId\": [None, None, None],\n",
    "    }, index=pd.Index([1, 1, 1], name=\"PersonId\"))\n",
    "user_history[\"OccurredTime\"] = pd.to_datetime(user_history[\"OccurredTime\"])"
   ]
  },
  {
   "cell_type": "code",
   "execution_count": 17,
   "metadata": {},
   "outputs": [],
   "source": [
    "#| export\n",
    "\n",
    "def bin_next_event_user_history(user_history: pd.DataFrame, *, t0: datetime, timedelta_buckets: List[timedelta]=timedelta_buckets):\n",
    "    user_history = user_history[user_history['OccurredTime'] > t0]\n",
    "    if user_history.empty:\n",
    "        return len(timedelta_buckets)\n",
    "\n",
    "    return _bin_timedelta(user_history['OccurredTime'].min() - t0, timedelta_buckets=timedelta_buckets)"
   ]
  },
  {
   "cell_type": "code",
   "execution_count": 18,
   "metadata": {},
   "outputs": [],
   "source": [
    "assert bin_next_event_user_history(user_history, t0=datetime(2023, 7, 10)) == 0 # 1 day to first event\n",
    "assert bin_next_event_user_history(user_history, t0=datetime(2023, 7, 9)) == 1 # 2 days to first event\n",
    "assert bin_next_event_user_history(user_history, t0=datetime(2023, 6, 1)) == 5 # >28 days to first event\n",
    "assert bin_next_event_user_history(user_history, t0=datetime(2023, 7, 20)) == 3 # 8 days to last event (t0 in the middle of events)"
   ]
  },
  {
   "cell_type": "markdown",
   "metadata": {},
   "source": [
    "## History construction"
   ]
  },
  {
   "cell_type": "markdown",
   "metadata": {},
   "source": []
  }
 ],
 "metadata": {
  "kernelspec": {
   "display_name": ".env",
   "language": "python",
   "name": "python3"
  },
  "language_info": {
   "codemirror_mode": {
    "name": "ipython",
    "version": 3
   },
   "file_extension": ".py",
   "mimetype": "text/x-python",
   "name": "python",
   "nbconvert_exporter": "python",
   "pygments_lexer": "ipython3",
   "version": "3.10.13"
  }
 },
 "nbformat": 4,
 "nbformat_minor": 2
}
